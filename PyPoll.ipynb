{
 "cells": [
  {
   "cell_type": "code",
   "execution_count": 1,
   "metadata": {},
   "outputs": [],
   "source": [
    "# data to retrieve\n",
    "# 1. total number of votes cast\n",
    "# 2. complete list of candidates\n",
    "# 3. percentage each candidate got\n",
    "# 4. total number each candidate got\n",
    "# 5. winner"
   ]
  },
  {
   "cell_type": "code",
   "execution_count": 2,
   "metadata": {},
   "outputs": [],
   "source": [
    "import datetime as dt\n",
    "import csv\n",
    "import os"
   ]
  },
  {
   "cell_type": "code",
   "execution_count": 24,
   "metadata": {},
   "outputs": [
    {
     "name": "stdout",
     "output_type": "stream",
     "text": [
      "------------------------\n",
      "Winner: Diana DeGette\n",
      "Winning Vote Count: 272,892\n",
      "Winning Percentage: 73.8%\n",
      "------------------------\n",
      "\n",
      "\n",
      "Election Results\n",
      "--------------------------\n",
      "Total Votes: 369,711\n",
      "--------------------------\n",
      "\n",
      "Charles Casper Stockham: 23.0% (85,213)\n",
      "Diana DeGette: 73.8% (272,892)\n",
      "Raymon Anthony Doane: 3.1% (11,606)\n",
      "\n"
     ]
    }
   ],
   "source": [
    "file_to_load = os.path.join(\"Resources\", \"election_results.csv\")\n",
    "file_to_save = os.path.join(\"Analysis\", \"election_analysis.txt\")\n",
    "\n",
    "t_votes = 0\n",
    "options = []\n",
    "c_votes = {}\n",
    "winner = ''\n",
    "win_count = 0\n",
    "win_percent = 0\n",
    "c_results = ''\n",
    "\n",
    "with open(file_to_load) as election_data:\n",
    "    file_reader = csv.reader(election_data)\n",
    "        \n",
    "    headers = next(file_reader)\n",
    "    \n",
    "    for row in file_reader:\n",
    "        t_votes += 1\n",
    "        \n",
    "        c_name = row[2]\n",
    "        \n",
    "        if c_name not in options:\n",
    "            options.append(c_name)\n",
    "            c_votes[c_name] = 0\n",
    "        \n",
    "        c_votes[c_name] += 1\n",
    "    \n",
    "    for c in options:\n",
    "        votes = c_votes[c]\n",
    "        vote_percent = float(votes) / float(t_votes) * 100\n",
    "        \n",
    "        c_results += (f'{c}: {vote_percent:.1f}% ({votes:,})\\n')\n",
    "        \n",
    "        if votes > win_count and vote_percent > win_percent:\n",
    "            win_count = votes\n",
    "            win_percent = vote_percent\n",
    "            winner = c\n",
    "            \n",
    "    winner_sum = (\n",
    "    \n",
    "    f'------------------------\\n'\n",
    "        \n",
    "    f'Winner: {winner}\\n'\n",
    "        \n",
    "    f'Winning Vote Count: {win_count:,}\\n'\n",
    "        \n",
    "    f'Winning Percentage: {win_percent:.1f}%\\n'\n",
    "        \n",
    "    f'------------------------\\n'\n",
    "    \n",
    "    )\n",
    "    \n",
    "    print(winner_sum)\n",
    "    \n",
    "    #print(t_votes)\n",
    "    #print(options)\n",
    "    #print(c_votes)\n",
    "    \n",
    "    \n",
    "with open(file_to_save, 'w') as txt_file:\n",
    "    \n",
    "    election_results = (\n",
    "    \n",
    "    f'\\nElection Results\\n'\n",
    "        \n",
    "    f'--------------------------\\n'\n",
    "        \n",
    "    f'Total Votes: {t_votes:,}\\n'\n",
    "        \n",
    "    f'--------------------------\\n'\n",
    "    \n",
    "    )\n",
    "    \n",
    "    print(election_results)\n",
    "    print(c_results)\n",
    "    \n",
    "    txt_file.write(election_results)\n",
    "    txt_file.write(c_results)\n",
    "    txt_file.write(winner_sum)\n",
    "\n"
   ]
  },
  {
   "cell_type": "code",
   "execution_count": null,
   "metadata": {},
   "outputs": [],
   "source": []
  }
 ],
 "metadata": {
  "kernelspec": {
   "display_name": "Python 3 (ipykernel)",
   "language": "python",
   "name": "python3"
  },
  "language_info": {
   "codemirror_mode": {
    "name": "ipython",
    "version": 3
   },
   "file_extension": ".py",
   "mimetype": "text/x-python",
   "name": "python",
   "nbconvert_exporter": "python",
   "pygments_lexer": "ipython3",
   "version": "3.9.13"
  }
 },
 "nbformat": 4,
 "nbformat_minor": 4
}
